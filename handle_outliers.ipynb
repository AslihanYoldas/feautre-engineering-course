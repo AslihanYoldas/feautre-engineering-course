{
 "cells": [
  {
   "cell_type": "markdown",
   "metadata": {},
   "source": [
    "# FEAUTURE ENGINEERING & DATA PRE-PROCESSIN"
   ]
  },
  {
   "cell_type": "code",
   "execution_count": 1,
   "metadata": {},
   "outputs": [],
   "source": [
    "# Importing Libraries\n",
    "import numpy as np \n",
    "import pandas as pd\n",
    "import seaborn as sns\n",
    "from matplotlib import pyplot as plt\n",
    "import missingno as msno\n",
    "from datetime import date\n",
    "from sklearn.metrics import accuracy_score\n",
    "from sklearn.model_selection import train_test_split\n",
    "from sklearn.neighbors import  LocalOutlierFactor\n",
    "from sklearn.preprocessing import  MinMaxScaler, LabelEncoder,StandardScaler, RobustScaler\n"
   ]
  },
  {
   "cell_type": "code",
   "execution_count": 2,
   "metadata": {},
   "outputs": [],
   "source": [
    "# Pandas View Options\n",
    "pd.set_option('display.max_columns', None)\n",
    "pd.set_option('display.max_rows', None)\n",
    "pd.set_option('display.float_format', lambda x:'%.3f' % x)\n",
    "pd.set_option('display.width', 500)"
   ]
  },
  {
   "cell_type": "code",
   "execution_count": 3,
   "metadata": {},
   "outputs": [],
   "source": [
    "## Load Datasets\n",
    "def load_dataset(data_url='data/titanic.csv'):\n",
    "    data =pd.read_csv(data_url)\n",
    "    return data"
   ]
  },
  {
   "cell_type": "code",
   "execution_count": 4,
   "metadata": {},
   "outputs": [],
   "source": [
    "df = load_dataset()"
   ]
  },
  {
   "cell_type": "code",
   "execution_count": 5,
   "metadata": {},
   "outputs": [
    {
     "data": {
      "text/html": [
       "<div>\n",
       "<style scoped>\n",
       "    .dataframe tbody tr th:only-of-type {\n",
       "        vertical-align: middle;\n",
       "    }\n",
       "\n",
       "    .dataframe tbody tr th {\n",
       "        vertical-align: top;\n",
       "    }\n",
       "\n",
       "    .dataframe thead th {\n",
       "        text-align: right;\n",
       "    }\n",
       "</style>\n",
       "<table border=\"1\" class=\"dataframe\">\n",
       "  <thead>\n",
       "    <tr style=\"text-align: right;\">\n",
       "      <th></th>\n",
       "      <th>PassengerId</th>\n",
       "      <th>Survived</th>\n",
       "      <th>Pclass</th>\n",
       "      <th>Name</th>\n",
       "      <th>Sex</th>\n",
       "      <th>Age</th>\n",
       "      <th>SibSp</th>\n",
       "      <th>Parch</th>\n",
       "      <th>Ticket</th>\n",
       "      <th>Fare</th>\n",
       "      <th>Cabin</th>\n",
       "      <th>Embarked</th>\n",
       "    </tr>\n",
       "  </thead>\n",
       "  <tbody>\n",
       "    <tr>\n",
       "      <th>0</th>\n",
       "      <td>1</td>\n",
       "      <td>0</td>\n",
       "      <td>3</td>\n",
       "      <td>Braund, Mr. Owen Harris</td>\n",
       "      <td>male</td>\n",
       "      <td>22.000</td>\n",
       "      <td>1</td>\n",
       "      <td>0</td>\n",
       "      <td>A/5 21171</td>\n",
       "      <td>7.250</td>\n",
       "      <td>NaN</td>\n",
       "      <td>S</td>\n",
       "    </tr>\n",
       "    <tr>\n",
       "      <th>1</th>\n",
       "      <td>2</td>\n",
       "      <td>1</td>\n",
       "      <td>1</td>\n",
       "      <td>Cumings, Mrs. John Bradley (Florence Briggs Th...</td>\n",
       "      <td>female</td>\n",
       "      <td>38.000</td>\n",
       "      <td>1</td>\n",
       "      <td>0</td>\n",
       "      <td>PC 17599</td>\n",
       "      <td>71.283</td>\n",
       "      <td>C85</td>\n",
       "      <td>C</td>\n",
       "    </tr>\n",
       "    <tr>\n",
       "      <th>2</th>\n",
       "      <td>3</td>\n",
       "      <td>1</td>\n",
       "      <td>3</td>\n",
       "      <td>Heikkinen, Miss. Laina</td>\n",
       "      <td>female</td>\n",
       "      <td>26.000</td>\n",
       "      <td>0</td>\n",
       "      <td>0</td>\n",
       "      <td>STON/O2. 3101282</td>\n",
       "      <td>7.925</td>\n",
       "      <td>NaN</td>\n",
       "      <td>S</td>\n",
       "    </tr>\n",
       "    <tr>\n",
       "      <th>3</th>\n",
       "      <td>4</td>\n",
       "      <td>1</td>\n",
       "      <td>1</td>\n",
       "      <td>Futrelle, Mrs. Jacques Heath (Lily May Peel)</td>\n",
       "      <td>female</td>\n",
       "      <td>35.000</td>\n",
       "      <td>1</td>\n",
       "      <td>0</td>\n",
       "      <td>113803</td>\n",
       "      <td>53.100</td>\n",
       "      <td>C123</td>\n",
       "      <td>S</td>\n",
       "    </tr>\n",
       "    <tr>\n",
       "      <th>4</th>\n",
       "      <td>5</td>\n",
       "      <td>0</td>\n",
       "      <td>3</td>\n",
       "      <td>Allen, Mr. William Henry</td>\n",
       "      <td>male</td>\n",
       "      <td>35.000</td>\n",
       "      <td>0</td>\n",
       "      <td>0</td>\n",
       "      <td>373450</td>\n",
       "      <td>8.050</td>\n",
       "      <td>NaN</td>\n",
       "      <td>S</td>\n",
       "    </tr>\n",
       "  </tbody>\n",
       "</table>\n",
       "</div>"
      ],
      "text/plain": [
       "   PassengerId  Survived  Pclass                                               Name     Sex    Age  SibSp  Parch            Ticket   Fare Cabin Embarked\n",
       "0            1         0       3                            Braund, Mr. Owen Harris    male 22.000      1      0         A/5 21171  7.250   NaN        S\n",
       "1            2         1       1  Cumings, Mrs. John Bradley (Florence Briggs Th...  female 38.000      1      0          PC 17599 71.283   C85        C\n",
       "2            3         1       3                             Heikkinen, Miss. Laina  female 26.000      0      0  STON/O2. 3101282  7.925   NaN        S\n",
       "3            4         1       1       Futrelle, Mrs. Jacques Heath (Lily May Peel)  female 35.000      1      0            113803 53.100  C123        S\n",
       "4            5         0       3                           Allen, Mr. William Henry    male 35.000      0      0            373450  8.050   NaN        S"
      ]
     },
     "execution_count": 5,
     "metadata": {},
     "output_type": "execute_result"
    }
   ],
   "source": [
    "df.head()"
   ]
  },
  {
   "cell_type": "markdown",
   "metadata": {},
   "source": [
    "## OUTLIERS\n",
    "### Lecture 1\n",
    "1. Determine threshold\n",
    "2. Find the outliers\n",
    "3. Quickly check if any outlier exists"
   ]
  },
  {
   "cell_type": "code",
   "execution_count": 6,
   "metadata": {},
   "outputs": [
    {
     "data": {
      "image/png": "[encoded data removed]",
      "text/plain": [
       "<Figure size 640x480 with 1 Axes>"
      ]
     },
     "metadata": {},
     "output_type": "display_data"
    }
   ],
   "source": [
    "# Outliers with boxplot\n",
    "sns.boxplot(x=df['Age'])\n",
    "plt.show()"
   ]
  },
  {
   "cell_type": "code",
   "execution_count": 7,
   "metadata": {},
   "outputs": [
    {
     "name": "stdout",
     "output_type": "stream",
     "text": [
      "25th percentile = 20.125\n",
      "75th percentile = 38.0\n"
     ]
    }
   ],
   "source": [
    "### Detcting Outliers\n",
    "## Finding Thresholds\n",
    "## First we need to find quartiles so we can calculate IQR\n",
    "q1 = df['Age'].quantile(0.25)\n",
    "print(f'25th percentile = {q1}')\n",
    "q3 = df['Age'].quantile(0.75)\n",
    "print(f'75th percentile = {q3}')"
   ]
  },
  {
   "cell_type": "code",
   "execution_count": 8,
   "metadata": {},
   "outputs": [
    {
     "name": "stdout",
     "output_type": "stream",
     "text": [
      "lower limit = -6.6875\n",
      "upper limit = 64.8125 \n"
     ]
    }
   ],
   "source": [
    "# Finding iqr and calculating lower and upper limit \n",
    "iqr = q3-q1 \n",
    "low_limit = q1 - 1.5*iqr\n",
    "up_limit = q3 + 1.5*iqr\n",
    "print(f'lower limit = {low_limit}\\nupper limit = {up_limit} ')"
   ]
  },
  {
   "cell_type": "code",
   "execution_count": 9,
   "metadata": {},
   "outputs": [
    {
     "data": {
      "text/html": [
       "<div>\n",
       "<style scoped>\n",
       "    .dataframe tbody tr th:only-of-type {\n",
       "        vertical-align: middle;\n",
       "    }\n",
       "\n",
       "    .dataframe tbody tr th {\n",
       "        vertical-align: top;\n",
       "    }\n",
       "\n",
       "    .dataframe thead th {\n",
       "        text-align: right;\n",
       "    }\n",
       "</style>\n",
       "<table border=\"1\" class=\"dataframe\">\n",
       "  <thead>\n",
       "    <tr style=\"text-align: right;\">\n",
       "      <th></th>\n",
       "      <th>PassengerId</th>\n",
       "      <th>Survived</th>\n",
       "      <th>Pclass</th>\n",
       "      <th>Name</th>\n",
       "      <th>Sex</th>\n",
       "      <th>Age</th>\n",
       "      <th>SibSp</th>\n",
       "      <th>Parch</th>\n",
       "      <th>Ticket</th>\n",
       "      <th>Fare</th>\n",
       "      <th>Cabin</th>\n",
       "      <th>Embarked</th>\n",
       "    </tr>\n",
       "  </thead>\n",
       "  <tbody>\n",
       "    <tr>\n",
       "      <th>33</th>\n",
       "      <td>34</td>\n",
       "      <td>0</td>\n",
       "      <td>2</td>\n",
       "      <td>Wheadon, Mr. Edward H</td>\n",
       "      <td>male</td>\n",
       "      <td>66.000</td>\n",
       "      <td>0</td>\n",
       "      <td>0</td>\n",
       "      <td>C.A. 24579</td>\n",
       "      <td>10.500</td>\n",
       "      <td>NaN</td>\n",
       "      <td>S</td>\n",
       "    </tr>\n",
       "    <tr>\n",
       "      <th>54</th>\n",
       "      <td>55</td>\n",
       "      <td>0</td>\n",
       "      <td>1</td>\n",
       "      <td>Ostby, Mr. Engelhart Cornelius</td>\n",
       "      <td>male</td>\n",
       "      <td>65.000</td>\n",
       "      <td>0</td>\n",
       "      <td>1</td>\n",
       "      <td>113509</td>\n",
       "      <td>61.979</td>\n",
       "      <td>B30</td>\n",
       "      <td>C</td>\n",
       "    </tr>\n",
       "    <tr>\n",
       "      <th>96</th>\n",
       "      <td>97</td>\n",
       "      <td>0</td>\n",
       "      <td>1</td>\n",
       "      <td>Goldschmidt, Mr. George B</td>\n",
       "      <td>male</td>\n",
       "      <td>71.000</td>\n",
       "      <td>0</td>\n",
       "      <td>0</td>\n",
       "      <td>PC 17754</td>\n",
       "      <td>34.654</td>\n",
       "      <td>A5</td>\n",
       "      <td>C</td>\n",
       "    </tr>\n",
       "    <tr>\n",
       "      <th>116</th>\n",
       "      <td>117</td>\n",
       "      <td>0</td>\n",
       "      <td>3</td>\n",
       "      <td>Connors, Mr. Patrick</td>\n",
       "      <td>male</td>\n",
       "      <td>70.500</td>\n",
       "      <td>0</td>\n",
       "      <td>0</td>\n",
       "      <td>370369</td>\n",
       "      <td>7.750</td>\n",
       "      <td>NaN</td>\n",
       "      <td>Q</td>\n",
       "    </tr>\n",
       "    <tr>\n",
       "      <th>280</th>\n",
       "      <td>281</td>\n",
       "      <td>0</td>\n",
       "      <td>3</td>\n",
       "      <td>Duane, Mr. Frank</td>\n",
       "      <td>male</td>\n",
       "      <td>65.000</td>\n",
       "      <td>0</td>\n",
       "      <td>0</td>\n",
       "      <td>336439</td>\n",
       "      <td>7.750</td>\n",
       "      <td>NaN</td>\n",
       "      <td>Q</td>\n",
       "    </tr>\n",
       "    <tr>\n",
       "      <th>456</th>\n",
       "      <td>457</td>\n",
       "      <td>0</td>\n",
       "      <td>1</td>\n",
       "      <td>Millet, Mr. Francis Davis</td>\n",
       "      <td>male</td>\n",
       "      <td>65.000</td>\n",
       "      <td>0</td>\n",
       "      <td>0</td>\n",
       "      <td>13509</td>\n",
       "      <td>26.550</td>\n",
       "      <td>E38</td>\n",
       "      <td>S</td>\n",
       "    </tr>\n",
       "    <tr>\n",
       "      <th>493</th>\n",
       "      <td>494</td>\n",
       "      <td>0</td>\n",
       "      <td>1</td>\n",
       "      <td>Artagaveytia, Mr. Ramon</td>\n",
       "      <td>male</td>\n",
       "      <td>71.000</td>\n",
       "      <td>0</td>\n",
       "      <td>0</td>\n",
       "      <td>PC 17609</td>\n",
       "      <td>49.504</td>\n",
       "      <td>NaN</td>\n",
       "      <td>C</td>\n",
       "    </tr>\n",
       "    <tr>\n",
       "      <th>630</th>\n",
       "      <td>631</td>\n",
       "      <td>1</td>\n",
       "      <td>1</td>\n",
       "      <td>Barkworth, Mr. Algernon Henry Wilson</td>\n",
       "      <td>male</td>\n",
       "      <td>80.000</td>\n",
       "      <td>0</td>\n",
       "      <td>0</td>\n",
       "      <td>27042</td>\n",
       "      <td>30.000</td>\n",
       "      <td>A23</td>\n",
       "      <td>S</td>\n",
       "    </tr>\n",
       "    <tr>\n",
       "      <th>672</th>\n",
       "      <td>673</td>\n",
       "      <td>0</td>\n",
       "      <td>2</td>\n",
       "      <td>Mitchell, Mr. Henry Michael</td>\n",
       "      <td>male</td>\n",
       "      <td>70.000</td>\n",
       "      <td>0</td>\n",
       "      <td>0</td>\n",
       "      <td>C.A. 24580</td>\n",
       "      <td>10.500</td>\n",
       "      <td>NaN</td>\n",
       "      <td>S</td>\n",
       "    </tr>\n",
       "    <tr>\n",
       "      <th>745</th>\n",
       "      <td>746</td>\n",
       "      <td>0</td>\n",
       "      <td>1</td>\n",
       "      <td>Crosby, Capt. Edward Gifford</td>\n",
       "      <td>male</td>\n",
       "      <td>70.000</td>\n",
       "      <td>1</td>\n",
       "      <td>1</td>\n",
       "      <td>WE/P 5735</td>\n",
       "      <td>71.000</td>\n",
       "      <td>B22</td>\n",
       "      <td>S</td>\n",
       "    </tr>\n",
       "    <tr>\n",
       "      <th>851</th>\n",
       "      <td>852</td>\n",
       "      <td>0</td>\n",
       "      <td>3</td>\n",
       "      <td>Svensson, Mr. Johan</td>\n",
       "      <td>male</td>\n",
       "      <td>74.000</td>\n",
       "      <td>0</td>\n",
       "      <td>0</td>\n",
       "      <td>347060</td>\n",
       "      <td>7.775</td>\n",
       "      <td>NaN</td>\n",
       "      <td>S</td>\n",
       "    </tr>\n",
       "  </tbody>\n",
       "</table>\n",
       "</div>"
      ],
      "text/plain": [
       "     PassengerId  Survived  Pclass                                  Name   Sex    Age  SibSp  Parch      Ticket   Fare Cabin Embarked\n",
       "33            34         0       2                 Wheadon, Mr. Edward H  male 66.000      0      0  C.A. 24579 10.500   NaN        S\n",
       "54            55         0       1        Ostby, Mr. Engelhart Cornelius  male 65.000      0      1      113509 61.979   B30        C\n",
       "96            97         0       1             Goldschmidt, Mr. George B  male 71.000      0      0    PC 17754 34.654    A5        C\n",
       "116          117         0       3                  Connors, Mr. Patrick  male 70.500      0      0      370369  7.750   NaN        Q\n",
       "280          281         0       3                      Duane, Mr. Frank  male 65.000      0      0      336439  7.750   NaN        Q\n",
       "456          457         0       1             Millet, Mr. Francis Davis  male 65.000      0      0       13509 26.550   E38        S\n",
       "493          494         0       1               Artagaveytia, Mr. Ramon  male 71.000      0      0    PC 17609 49.504   NaN        C\n",
       "630          631         1       1  Barkworth, Mr. Algernon Henry Wilson  male 80.000      0      0       27042 30.000   A23        S\n",
       "672          673         0       2           Mitchell, Mr. Henry Michael  male 70.000      0      0  C.A. 24580 10.500   NaN        S\n",
       "745          746         0       1          Crosby, Capt. Edward Gifford  male 70.000      1      1   WE/P 5735 71.000   B22        S\n",
       "851          852         0       3                   Svensson, Mr. Johan  male 74.000      0      0      347060  7.775   NaN        S"
      ]
     },
     "execution_count": 9,
     "metadata": {},
     "output_type": "execute_result"
    }
   ],
   "source": [
    "#Finding outliers with the limits\n",
    "# Because low limit is below zero there is no data lower than the low limit\n",
    "df.query('Age > @up_limit | Age < @low_limit')"
   ]
  },
  {
   "cell_type": "code",
   "execution_count": 10,
   "metadata": {},
   "outputs": [
    {
     "data": {
      "text/plain": [
       "Index([33, 54, 96, 116, 280, 456, 493, 630, 672, 745, 851], dtype='int64')"
      ]
     },
     "execution_count": 10,
     "metadata": {},
     "output_type": "execute_result"
    }
   ],
   "source": [
    "# Getting the index of outliers\n",
    "df.query('Age > @up_limit | Age < @low_limit').index"
   ]
  },
  {
   "cell_type": "code",
   "execution_count": 11,
   "metadata": {},
   "outputs": [
    {
     "data": {
      "text/plain": [
       "True"
      ]
     },
     "execution_count": 11,
     "metadata": {},
     "output_type": "execute_result"
    }
   ],
   "source": [
    "# For finding are there any outliers True or False\n",
    "# Are there any data lower than the low limit or upper than up limit\n",
    "df.query('Age > @up_limit | Age < @low_limit').any(axis=None)"
   ]
  },
  {
   "cell_type": "code",
   "execution_count": 12,
   "metadata": {},
   "outputs": [
    {
     "data": {
      "text/plain": [
       "False"
      ]
     },
     "execution_count": 12,
     "metadata": {},
     "output_type": "execute_result"
    }
   ],
   "source": [
    "# Are there any data lower than the low limit\n",
    "df.query('Age < @low_limit').any(axis=None)"
   ]
  },
  {
   "cell_type": "markdown",
   "metadata": {},
   "source": [
    "### Lecture 2\n",
    "1. Creating functions for outliers\n",
    "- Feature Engineering , Data Pre-processing should be on script level\n",
    "- It should run on os level and complete all the data pre processing\n",
    "- So we should do everything programmaticly with functions on script level\n"
   ]
  },
  {
   "cell_type": "code",
   "execution_count": 13,
   "metadata": {},
   "outputs": [],
   "source": [
    "# Find outlier thresholds\n",
    "# q1 and q3 values could change (5-95 or 1-99)\n",
    "# The instructor prefers 5-95 but in lit. it is 25-75\n",
    "def outlier_thresholds(df, col_name, q1 = 0.25, q3 = 0.75 ):\n",
    "    quartile1 = df[col_name].quantile(q1)\n",
    "    quartile3 = df[col_name].quantile(q3)\n",
    "    interquantile_range = quartile3 - quartile1\n",
    "    upper_limit = quartile3 + 1.5 * interquantile_range\n",
    "    lower_limit = quartile1- 1.5 * interquantile_range\n",
    "    return lower_limit,upper_limit"
   ]
  },
  {
   "cell_type": "code",
   "execution_count": 14,
   "metadata": {},
   "outputs": [
    {
     "data": {
      "text/plain": [
       "(-6.6875, 64.8125)"
      ]
     },
     "execution_count": 14,
     "metadata": {},
     "output_type": "execute_result"
    }
   ],
   "source": [
    "outlier_thresholds(df,'Age')\n"
   ]
  },
  {
   "cell_type": "code",
   "execution_count": 15,
   "metadata": {},
   "outputs": [
    {
     "data": {
      "text/plain": [
       "(-26.724, 65.6344)"
      ]
     },
     "execution_count": 15,
     "metadata": {},
     "output_type": "execute_result"
    }
   ],
   "source": [
    "outlier_thresholds(df,'Fare')"
   ]
  },
  {
   "cell_type": "code",
   "execution_count": 16,
   "metadata": {},
   "outputs": [
    {
     "data": {
      "text/plain": [
       "count   116.000\n",
       "mean    128.292\n",
       "std      84.637\n",
       "min      66.600\n",
       "25%      78.190\n",
       "50%      90.000\n",
       "75%     147.778\n",
       "max     512.329\n",
       "Name: Fare, dtype: float64"
      ]
     },
     "execution_count": 16,
     "metadata": {},
     "output_type": "execute_result"
    }
   ],
   "source": [
    "low, up = outlier_thresholds(df,'Fare')\n",
    "df.query('Fare > @up | Fare < @low')['Fare'].describe()"
   ]
  },
  {
   "cell_type": "code",
   "execution_count": 17,
   "metadata": {},
   "outputs": [],
   "source": [
    "def check_outlier(df, col_name):\n",
    "    low_limit, up_limit = outlier_thresholds(df,col_name)\n",
    "    return df[(df[col_name] > up_limit )| (df[col_name] < low_limit)].any(axis=None)\n"
   ]
  },
  {
   "cell_type": "code",
   "execution_count": 18,
   "metadata": {},
   "outputs": [
    {
     "data": {
      "text/plain": [
       "True"
      ]
     },
     "execution_count": 18,
     "metadata": {},
     "output_type": "execute_result"
    }
   ],
   "source": [
    "check_outlier(df, 'Age')"
   ]
  },
  {
   "cell_type": "code",
   "execution_count": 19,
   "metadata": {},
   "outputs": [
    {
     "data": {
      "text/plain": [
       "True"
      ]
     },
     "execution_count": 19,
     "metadata": {},
     "output_type": "execute_result"
    }
   ],
   "source": [
    "check_outlier(df, 'Fare')"
   ]
  },
  {
   "cell_type": "markdown",
   "metadata": {},
   "source": [
    "### Lecture 3\n",
    "- We need to check_outlier for every variable how can we do it programmaticly\n",
    "- How can we get numerical variables, categorical variables etc."
   ]
  },
  {
   "cell_type": "code",
   "execution_count": 21,
   "metadata": {},
   "outputs": [
    {
     "data": {
      "text/html": [
       "<div>\n",
       "<style scoped>\n",
       "    .dataframe tbody tr th:only-of-type {\n",
       "        vertical-align: middle;\n",
       "    }\n",
       "\n",
       "    .dataframe tbody tr th {\n",
       "        vertical-align: top;\n",
       "    }\n",
       "\n",
       "    .dataframe thead th {\n",
       "        text-align: right;\n",
       "    }\n",
       "</style>\n",
       "<table border=\"1\" class=\"dataframe\">\n",
       "  <thead>\n",
       "    <tr style=\"text-align: right;\">\n",
       "      <th></th>\n",
       "      <th>PassengerId</th>\n",
       "      <th>Survived</th>\n",
       "      <th>Pclass</th>\n",
       "      <th>Name</th>\n",
       "      <th>Sex</th>\n",
       "      <th>Age</th>\n",
       "      <th>SibSp</th>\n",
       "      <th>Parch</th>\n",
       "      <th>Ticket</th>\n",
       "      <th>Fare</th>\n",
       "      <th>Cabin</th>\n",
       "      <th>Embarked</th>\n",
       "    </tr>\n",
       "  </thead>\n",
       "  <tbody>\n",
       "    <tr>\n",
       "      <th>0</th>\n",
       "      <td>1</td>\n",
       "      <td>0</td>\n",
       "      <td>3</td>\n",
       "      <td>Braund, Mr. Owen Harris</td>\n",
       "      <td>male</td>\n",
       "      <td>22.000</td>\n",
       "      <td>1</td>\n",
       "      <td>0</td>\n",
       "      <td>A/5 21171</td>\n",
       "      <td>7.250</td>\n",
       "      <td>NaN</td>\n",
       "      <td>S</td>\n",
       "    </tr>\n",
       "    <tr>\n",
       "      <th>1</th>\n",
       "      <td>2</td>\n",
       "      <td>1</td>\n",
       "      <td>1</td>\n",
       "      <td>Cumings, Mrs. John Bradley (Florence Briggs Th...</td>\n",
       "      <td>female</td>\n",
       "      <td>38.000</td>\n",
       "      <td>1</td>\n",
       "      <td>0</td>\n",
       "      <td>PC 17599</td>\n",
       "      <td>71.283</td>\n",
       "      <td>C85</td>\n",
       "      <td>C</td>\n",
       "    </tr>\n",
       "    <tr>\n",
       "      <th>2</th>\n",
       "      <td>3</td>\n",
       "      <td>1</td>\n",
       "      <td>3</td>\n",
       "      <td>Heikkinen, Miss. Laina</td>\n",
       "      <td>female</td>\n",
       "      <td>26.000</td>\n",
       "      <td>0</td>\n",
       "      <td>0</td>\n",
       "      <td>STON/O2. 3101282</td>\n",
       "      <td>7.925</td>\n",
       "      <td>NaN</td>\n",
       "      <td>S</td>\n",
       "    </tr>\n",
       "    <tr>\n",
       "      <th>3</th>\n",
       "      <td>4</td>\n",
       "      <td>1</td>\n",
       "      <td>1</td>\n",
       "      <td>Futrelle, Mrs. Jacques Heath (Lily May Peel)</td>\n",
       "      <td>female</td>\n",
       "      <td>35.000</td>\n",
       "      <td>1</td>\n",
       "      <td>0</td>\n",
       "      <td>113803</td>\n",
       "      <td>53.100</td>\n",
       "      <td>C123</td>\n",
       "      <td>S</td>\n",
       "    </tr>\n",
       "    <tr>\n",
       "      <th>4</th>\n",
       "      <td>5</td>\n",
       "      <td>0</td>\n",
       "      <td>3</td>\n",
       "      <td>Allen, Mr. William Henry</td>\n",
       "      <td>male</td>\n",
       "      <td>35.000</td>\n",
       "      <td>0</td>\n",
       "      <td>0</td>\n",
       "      <td>373450</td>\n",
       "      <td>8.050</td>\n",
       "      <td>NaN</td>\n",
       "      <td>S</td>\n",
       "    </tr>\n",
       "  </tbody>\n",
       "</table>\n",
       "</div>"
      ],
      "text/plain": [
       "   PassengerId  Survived  Pclass                                               Name     Sex    Age  SibSp  Parch            Ticket   Fare Cabin Embarked\n",
       "0            1         0       3                            Braund, Mr. Owen Harris    male 22.000      1      0         A/5 21171  7.250   NaN        S\n",
       "1            2         1       1  Cumings, Mrs. John Bradley (Florence Briggs Th...  female 38.000      1      0          PC 17599 71.283   C85        C\n",
       "2            3         1       3                             Heikkinen, Miss. Laina  female 26.000      0      0  STON/O2. 3101282  7.925   NaN        S\n",
       "3            4         1       1       Futrelle, Mrs. Jacques Heath (Lily May Peel)  female 35.000      1      0            113803 53.100  C123        S\n",
       "4            5         0       3                           Allen, Mr. William Henry    male 35.000      0      0            373450  8.050   NaN        S"
      ]
     },
     "execution_count": 21,
     "metadata": {},
     "output_type": "execute_result"
    }
   ],
   "source": [
    "# Categoric -> Sex\n",
    "# Numerical -> Fare\n",
    "# There are some variables in this dataset that is numerical but actually categorical\n",
    "# seems like numerical categorical variables -> Pclass(1,2,3), Survived(0,1)\n",
    "# SibSp(Number of siblings) could be assessed as categorical, open to interepretation, not final\n",
    "# Another type is categorical but not carrying information, has so many classes this one called cardinal variables\n",
    "# seems like categorical but cardinal variables ->Name, Ticket, cabin- no measurement value- not categoric because has as many category classes as sample numbers\n",
    "df.head()"
   ]
  },
  {
   "cell_type": "code",
   "execution_count": 39,
   "metadata": {},
   "outputs": [],
   "source": [
    "# With this function we can get variable types mentioned above\n",
    "# Categoric\n",
    "# Numerical\n",
    "# seems like numerical categorical variables\n",
    "# seems like categorical but cardinal variables\n",
    "def grab_col_names(df, categoric_threshold = 10, cardinal_threshold = 20):\n",
    "    \"\"\"\n",
    "    Gives the actual categorical, actual numerical and seems categorical but cardinal variable names\n",
    "    Note: Categoric variables includes seems like numerical categorical variables\n",
    "\n",
    "    Parameters\n",
    "    -------\n",
    "    df: dataframe- Dataframe to get variable names    \n",
    "    categoric_threshold: int, optional - numeric but categorical variables threshold value\n",
    "    cardinal_threshold: int, optional - categoric but cardinal variables threshold value\n",
    "    Note: Thresholds can change according to dataset\n",
    "    Returns\n",
    "    -------\n",
    "    categoric_cols:list -List of cat variables\n",
    "    num_cols:list - List of numerical variables\n",
    "    cat_but_car: list - List of cardinal variables\n",
    "\n",
    "\n",
    "    \"\"\"\n",
    "    # Getting the all look like categorical variables\n",
    "    categorical_cols = [col for col in df.columns if df[col].dtypes == \"O\"]\n",
    "    # Getting the seems like numerical but categorical variables\n",
    "    # If class number (unique value) lower than categorical threshold it is a categorical variable not numerical\n",
    "    num_but_cat = [col for col in df.columns if df[col].nunique() < categoric_threshold and df[col].dtypes != \"O\"]\n",
    "    # Getting the seems like categorical but cardinal variables\n",
    "    # If class number (unique value) bigger than cardinal threshold it is a cardinal variable not categorical\n",
    "    cat_but_car = [col for col in df.columns if df[col].nunique() > cardinal_threshold and df[col].dtypes == \"O\"]\n",
    "    # Getting the actual categorical variables added the numerical categorical and substract cardinal categorical variables\n",
    "    categorical_cols = categorical_cols + num_but_cat\n",
    "    categorical_cols = [col for col in categorical_cols if col not in cat_but_car]\n",
    "    \n",
    "    # Getting the all look like numerical variables\n",
    "    num_cols = [col for col in df.columns if df[col].dtypes != \"O\"]\n",
    "    #Getting the actual numerical variables by substracting numeric categorical variables\n",
    "    num_cols = [col for col in num_cols if col not in num_but_cat]\n",
    "    \n",
    "    print(f\"Observations:{df.shape[0]}\")\n",
    "    print(f\"Variables:{df.shape[1]}\")\n",
    "    print(f\"categorical columns:{len(categorical_cols)}\")\n",
    "    print(f\"numerical columns:{len(num_cols)}\")\n",
    "    print(f\"cardinal columns:{len(cat_but_car)}\")\n",
    "    print(f\"numeric but categorical variables:{len(num_but_cat)}\")\n",
    "    # num_but_cat is in categorical variables\n",
    "    return categorical_cols, num_cols, cat_but_car\n",
    "\n"
   ]
  },
  {
   "cell_type": "code",
   "execution_count": 40,
   "metadata": {},
   "outputs": [
    {
     "name": "stdout",
     "output_type": "stream",
     "text": [
      "Observations:891\n",
      "Variables:12\n",
      "categorical columns:6\n",
      "numerical columns:3\n",
      "cardinal columns:3\n",
      "numeric but categorical variables:4\n"
     ]
    }
   ],
   "source": [
    "categorical_cols, num_cols, cat_but_car = grab_col_names(df)"
   ]
  },
  {
   "cell_type": "code",
   "execution_count": 38,
   "metadata": {},
   "outputs": [
    {
     "data": {
      "text/plain": [
       "['Sex', 'Embarked', 'Survived', 'Pclass', 'SibSp', 'Parch']"
      ]
     },
     "execution_count": 38,
     "metadata": {},
     "output_type": "execute_result"
    }
   ],
   "source": [
    "# All  numerical categorical variables catched\n",
    "# There are two open to interpreation var.:'SibSp'  'Parch'\n",
    "# We can change that by changing the thresholds but with this thresholds they are categorical not numerical\n",
    "categorical_cols"
   ]
  },
  {
   "cell_type": "code",
   "execution_count": null,
   "metadata": {},
   "outputs": [],
   "source": [
    "# We classisifed variables programmaticly \n",
    "# Sometimes we cant understand this in first look or there are so many variables\n",
    "# Making this with a function is so much easier"
   ]
  },
  {
   "cell_type": "code",
   "execution_count": 41,
   "metadata": {},
   "outputs": [
    {
     "data": {
      "text/plain": [
       "['PassengerId', 'Age', 'Fare']"
      ]
     },
     "execution_count": 41,
     "metadata": {},
     "output_type": "execute_result"
    }
   ],
   "source": [
    "# Id and dates are the exception\n",
    "# Not control this in the function because it will reduce readability of the function\n",
    "num_cols"
   ]
  },
  {
   "cell_type": "code",
   "execution_count": 44,
   "metadata": {},
   "outputs": [
    {
     "name": "stdout",
     "output_type": "stream",
     "text": [
      "['Age', 'Fare']\n"
     ]
    }
   ],
   "source": [
    "# Redefining num_col here\n",
    "num_cols = [col for col in num_cols if col not in \"PassengerId\"]\n",
    "print(num_cols)"
   ]
  },
  {
   "cell_type": "code",
   "execution_count": null,
   "metadata": {},
   "outputs": [],
   "source": [
    "# cardinal variables are non functional we dont really need it"
   ]
  },
  {
   "cell_type": "code",
   "execution_count": 45,
   "metadata": {},
   "outputs": [
    {
     "name": "stdout",
     "output_type": "stream",
     "text": [
      "Age True\n",
      "Fare True\n"
     ]
    }
   ],
   "source": [
    "# Find out if there is outlier in numerical columns\n",
    "for col in num_cols:\n",
    "    print(col, check_outlier(df,col))"
   ]
  },
  {
   "cell_type": "code",
   "execution_count": 46,
   "metadata": {},
   "outputs": [],
   "source": [
    "# Loading big dataset\n",
    "df_big =load_dataset('data/application_train.csv')"
   ]
  },
  {
   "cell_type": "code",
   "execution_count": 47,
   "metadata": {},
   "outputs": [
    {
     "name": "stdout",
     "output_type": "stream",
     "text": [
      "Observations:307511\n",
      "Variables:122\n",
      "categorical columns:54\n",
      "numerical columns:67\n",
      "cardinal columns:1\n",
      "numeric but categorical variables:39\n"
     ]
    }
   ],
   "source": [
    "# There can be binary encoded var. -> Categorical var\n",
    "# We find all numerical and categorical var. \n",
    "categorical_cols, num_cols, cat_but_car = grab_col_names(df_big)"
   ]
  },
  {
   "cell_type": "code",
   "execution_count": 49,
   "metadata": {},
   "outputs": [],
   "source": [
    "# Excluding ID from num cols\n",
    "num_cols = [col for col in num_cols if col not in \"SK_ID_CURR\"]\n"
   ]
  },
  {
   "cell_type": "code",
   "execution_count": 50,
   "metadata": {},
   "outputs": [
    {
     "name": "stdout",
     "output_type": "stream",
     "text": [
      "CNT_CHILDREN True\n",
      "AMT_INCOME_TOTAL True\n",
      "AMT_CREDIT True\n",
      "AMT_ANNUITY True\n",
      "AMT_GOODS_PRICE True\n",
      "REGION_POPULATION_RELATIVE True\n",
      "DAYS_BIRTH False\n",
      "DAYS_EMPLOYED True\n",
      "DAYS_REGISTRATION True\n",
      "DAYS_ID_PUBLISH False\n",
      "OWN_CAR_AGE True\n",
      "CNT_FAM_MEMBERS True\n",
      "HOUR_APPR_PROCESS_START True\n",
      "EXT_SOURCE_1 False\n",
      "EXT_SOURCE_2 False\n",
      "EXT_SOURCE_3 False\n",
      "APARTMENTS_AVG True\n",
      "BASEMENTAREA_AVG True\n",
      "YEARS_BEGINEXPLUATATION_AVG True\n",
      "YEARS_BUILD_AVG True\n",
      "COMMONAREA_AVG True\n",
      "ELEVATORS_AVG True\n",
      "ENTRANCES_AVG True\n",
      "FLOORSMAX_AVG True\n",
      "FLOORSMIN_AVG True\n",
      "LANDAREA_AVG True\n",
      "LIVINGAPARTMENTS_AVG True\n",
      "LIVINGAREA_AVG True\n",
      "NONLIVINGAPARTMENTS_AVG True\n",
      "NONLIVINGAREA_AVG True\n",
      "APARTMENTS_MODE True\n",
      "BASEMENTAREA_MODE True\n",
      "YEARS_BEGINEXPLUATATION_MODE True\n",
      "YEARS_BUILD_MODE True\n",
      "COMMONAREA_MODE True\n",
      "ELEVATORS_MODE True\n",
      "ENTRANCES_MODE True\n",
      "FLOORSMAX_MODE True\n",
      "FLOORSMIN_MODE True\n",
      "LANDAREA_MODE True\n",
      "LIVINGAPARTMENTS_MODE True\n",
      "LIVINGAREA_MODE True\n",
      "NONLIVINGAPARTMENTS_MODE True\n",
      "NONLIVINGAREA_MODE True\n",
      "APARTMENTS_MEDI True\n",
      "BASEMENTAREA_MEDI True\n",
      "YEARS_BEGINEXPLUATATION_MEDI True\n",
      "YEARS_BUILD_MEDI True\n",
      "COMMONAREA_MEDI True\n",
      "ELEVATORS_MEDI True\n",
      "ENTRANCES_MEDI True\n",
      "FLOORSMAX_MEDI True\n",
      "FLOORSMIN_MEDI True\n",
      "LANDAREA_MEDI True\n",
      "LIVINGAPARTMENTS_MEDI True\n",
      "LIVINGAREA_MEDI True\n",
      "NONLIVINGAPARTMENTS_MEDI True\n",
      "NONLIVINGAREA_MEDI True\n",
      "TOTALAREA_MODE True\n",
      "OBS_30_CNT_SOCIAL_CIRCLE True\n",
      "DEF_30_CNT_SOCIAL_CIRCLE True\n",
      "OBS_60_CNT_SOCIAL_CIRCLE True\n",
      "DAYS_LAST_PHONE_CHANGE True\n",
      "AMT_REQ_CREDIT_BUREAU_MON True\n",
      "AMT_REQ_CREDIT_BUREAU_QRT True\n",
      "AMT_REQ_CREDIT_BUREAU_YEAR True\n"
     ]
    }
   ],
   "source": [
    "# Find out if there is outlier in numerical columns\n",
    "# Dont forget q1 and q3 are 0.25 snd 0.75\n",
    "# Because of that most of them has outliers\n",
    "for col in num_cols:\n",
    "    print(col, check_outlier(df_big,col))"
   ]
  }
 ],
 "metadata": {
  "kernelspec": {
   "display_name": "Python 3",
   "language": "python",
   "name": "python3"
  },
  "language_info": {
   "codemirror_mode": {
    "name": "ipython",
    "version": 3
   },
   "file_extension": ".py",
   "mimetype": "text/x-python",
   "name": "python",
   "nbconvert_exporter": "python",
   "pygments_lexer": "ipython3",
   "version": "3.10.13"
  }
 },
 "nbformat": 4,
 "nbformat_minor": 2
}
